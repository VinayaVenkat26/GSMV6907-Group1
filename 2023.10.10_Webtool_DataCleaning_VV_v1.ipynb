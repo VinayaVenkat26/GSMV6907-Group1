{
 "cells": [
  {
   "cell_type": "markdown",
   "id": "964b97c0",
   "metadata": {},
   "source": [
    "Hi guys, this is the file where we can type in the code for the streamlit testing. This file will stay in Github. But for you to run the codes and test it, you can download this version of the file, test the codes in your own system and add the changes to this fiel. If you think that isnt possible, you can just upload your own ipynb file so we can proceed working from there!.\n"
   ]
  },
  {
   "cell_type": "markdown",
   "id": "9723f11f",
   "metadata": {},
   "source": [
    "Idea for the webtool: \n",
    "\n",
    "Interactive data cleaning tool with basic data visualization"
   ]
  },
  {
   "cell_type": "code",
   "execution_count": 9,
   "id": "2af416a9",
   "metadata": {},
   "outputs": [],
   "source": [
    "# Libraries\n",
    "import numpy as np\n",
    "import pandas as pd\n",
    "import streamlit as st\n",
    "import scipy.stats as sp\n",
    "import matplotlib.pyplot as plt\n",
    "import seaborn as sns"
   ]
  },
  {
   "cell_type": "code",
   "execution_count": 10,
   "id": "b87ee58c",
   "metadata": {},
   "outputs": [
    {
     "name": "stderr",
     "output_type": "stream",
     "text": [
      "2023-10-10 16:54:13.590 \n",
      "  \u001b[33m\u001b[1mWarning:\u001b[0m to view this Streamlit app on a browser, run it with the following\n",
      "  command:\n",
      "\n",
      "    streamlit run C:\\Users\\vv4ve\\anaconda3\\lib\\site-packages\\ipykernel_launcher.py [ARGUMENTS]\n"
     ]
    }
   ],
   "source": [
    "st.write('Welcome to the data cleaning webtool')\n",
    "st.write('Please choose the file format you are uploading (Compatible file formats: Excel, CSV, TSV)')"
   ]
  },
  {
   "cell_type": "code",
   "execution_count": null,
   "id": "31c78134",
   "metadata": {},
   "outputs": [],
   "source": []
  }
 ],
 "metadata": {
  "kernelspec": {
   "display_name": "Python 3 (ipykernel)",
   "language": "python",
   "name": "python3"
  },
  "language_info": {
   "codemirror_mode": {
    "name": "ipython",
    "version": 3
   },
   "file_extension": ".py",
   "mimetype": "text/x-python",
   "name": "python",
   "nbconvert_exporter": "python",
   "pygments_lexer": "ipython3",
   "version": "3.10.9"
  }
 },
 "nbformat": 4,
 "nbformat_minor": 5
}
